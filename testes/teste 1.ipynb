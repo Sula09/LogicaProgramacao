{
 "cells": [
  {
   "cell_type": "code",
   "execution_count": 10,
   "metadata": {},
   "outputs": [
    {
     "name": "stdout",
     "output_type": "stream",
     "text": [
      "Este usuário é menor de idade\n"
     ]
    }
   ],
   "source": [
    "#Suyany\n",
    "idade = int(input(\"Digite sua idade:\"))\n",
    "\n",
    "if idade >= 18:\n",
    "    print(\"Este usuário é maior de idade\")\n",
    " \n",
    "else: \n",
    "    print(\"Este usuário é menor de idade\")"
   ]
  }
 ],
 "metadata": {
  "kernelspec": {
   "display_name": "Python 3",
   "language": "python",
   "name": "python3"
  },
  "language_info": {
   "codemirror_mode": {
    "name": "ipython",
    "version": 3
   },
   "file_extension": ".py",
   "mimetype": "text/x-python",
   "name": "python",
   "nbconvert_exporter": "python",
   "pygments_lexer": "ipython3",
   "version": "3.12.0"
  }
 },
 "nbformat": 4,
 "nbformat_minor": 2
}
