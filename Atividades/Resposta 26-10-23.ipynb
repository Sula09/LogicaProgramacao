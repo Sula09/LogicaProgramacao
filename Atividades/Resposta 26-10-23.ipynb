{
 "cells": [
  {
   "cell_type": "code",
   "execution_count": 1,
   "metadata": {},
   "outputs": [
    {
     "name": "stdout",
     "output_type": "stream",
     "text": [
      "8\n"
     ]
    }
   ],
   "source": [
    "# questão 01\n",
    "\n",
    "print(3+5)"
   ]
  },
  {
   "cell_type": "code",
   "execution_count": 2,
   "metadata": {},
   "outputs": [
    {
     "name": "stdout",
     "output_type": "stream",
     "text": [
      "olá, mundo!\n"
     ]
    }
   ],
   "source": [
    "# quesão 02\n",
    "\n",
    "print(\"olá, mundo!\")"
   ]
  },
  {
   "cell_type": "code",
   "execution_count": 3,
   "metadata": {},
   "outputs": [
    {
     "name": "stdout",
     "output_type": "stream",
     "text": [
      "30 anos\n"
     ]
    }
   ],
   "source": [
    "# questão 03\n",
    "\n",
    "idade = 30\n",
    "print(idade,\"anos\")"
   ]
  },
  {
   "cell_type": "code",
   "execution_count": 57,
   "metadata": {},
   "outputs": [
    {
     "name": "stdout",
     "output_type": "stream",
     "text": [
      "80\n"
     ]
    }
   ],
   "source": [
    "# questão 04\n",
    "\n",
    "a01 = int(input(\"insira um númro:\"))\n",
    "print(a01)\n"
   ]
  },
  {
   "cell_type": "code",
   "execution_count": 13,
   "metadata": {},
   "outputs": [
    {
     "name": "stdout",
     "output_type": "stream",
     "text": [
      "Olá, Alice!\n"
     ]
    }
   ],
   "source": [
    "# questão 05\n",
    "\n",
    "nome = \"Alice\"\n",
    "print(f\"Olá, {nome}!\")"
   ]
  },
  {
   "cell_type": "code",
   "execution_count": 58,
   "metadata": {},
   "outputs": [
    {
     "name": "stdout",
     "output_type": "stream",
     "text": [
      "True\n"
     ]
    }
   ],
   "source": [
    "# questão 06\n",
    "\n",
    "\n",
    "print(7>3)"
   ]
  },
  {
   "cell_type": "code",
   "execution_count": 61,
   "metadata": {},
   "outputs": [
    {
     "name": "stdout",
     "output_type": "stream",
     "text": [
      "Maior de idade.\n"
     ]
    }
   ],
   "source": [
    "# questão 07\n",
    "#dica: mesmo q nao solicitado, é bom fazer uma tratativa caso \n",
    "\n",
    "idade = int(input(\"insira sua idade:\"))\n",
    "\n",
    "if idade >= 18:\n",
    " print(\"Maior de idade.\")\n",
    "else:\n",
    " print(\"Menor de idade.\")"
   ]
  },
  {
   "cell_type": "code",
   "execution_count": 45,
   "metadata": {},
   "outputs": [
    {
     "name": "stdout",
     "output_type": "stream",
     "text": [
      "positivo\n"
     ]
    }
   ],
   "source": [
    "# questão 08\n",
    "\n",
    "numero = int(input(\"insira um número:\"))\n",
    "\n",
    "if numero > 0:\n",
    "   print(\"positivo\")\n",
    "else:\n",
    "   print(\"negativo\")"
   ]
  },
  {
   "cell_type": "code",
   "execution_count": 14,
   "metadata": {},
   "outputs": [
    {
     "name": "stdout",
     "output_type": "stream",
     "text": [
      "Reprovada\n"
     ]
    }
   ],
   "source": [
    "# questão 09\n",
    "\n",
    "nota = int(input(\"insira uma nota de 0 a 10:\"))\n",
    " \n",
    "if nota >= 6:\n",
    " print(\"Aprovada\")\n",
    "else:\n",
    " print(\"Reprovada\")"
   ]
  },
  {
   "cell_type": "code",
   "execution_count": 53,
   "metadata": {},
   "outputs": [
    {
     "name": "stdout",
     "output_type": "stream",
     "text": [
      "Maior de idade.\n"
     ]
    }
   ],
   "source": [
    "# quetão 10\n",
    "\n",
    "idade = 25\n",
    "\n",
    "if idade < 18:\n",
    "   print(\"Menor de idade.\")\n",
    "else:\n",
    "   print(\"Maior de idade.\")"
   ]
  }
 ],
 "metadata": {
  "kernelspec": {
   "display_name": "Python 3",
   "language": "python",
   "name": "python3"
  },
  "language_info": {
   "codemirror_mode": {
    "name": "ipython",
    "version": 3
   },
   "file_extension": ".py",
   "mimetype": "text/x-python",
   "name": "python",
   "nbconvert_exporter": "python",
   "pygments_lexer": "ipython3",
   "version": "3.12.0"
  }
 },
 "nbformat": 4,
 "nbformat_minor": 2
}
