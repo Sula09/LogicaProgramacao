{
 "cells": [
  {
   "cell_type": "code",
   "execution_count": 3,
   "metadata": {},
   "outputs": [
    {
     "name": "stdout",
     "output_type": "stream",
     "text": [
      "30\n"
     ]
    }
   ],
   "source": [
    "# questão 1\n",
    "N1 = int(input(\"insira o primeiro número:\"))\n",
    "N2 = int(input(\"insira o segundo número:\"))\n",
    "print( N1 + N2)"
   ]
  },
  {
   "cell_type": "code",
   "execution_count": 11,
   "metadata": {},
   "outputs": [
    {
     "name": "stdout",
     "output_type": "stream",
     "text": [
      "Correto!\n",
      "banana\n"
     ]
    }
   ],
   "source": [
    "# questão 2\n",
    "fruta = \"banana\"\n",
    "adivinhe = input(\"Adivnhe qual é a fruta, digite aqui:\").lower()\n",
    "\n",
    "if adivinhe == fruta:\n",
    " print(\"Correto!\")\n",
    "else:\n",
    "  print(\"Incorreto!\")\n",
    "\n",
    "print(adivinhe)"
   ]
  },
  {
   "cell_type": "code",
   "execution_count": 6,
   "metadata": {},
   "outputs": [
    {
     "name": "stdout",
     "output_type": "stream",
     "text": [
      "Dentro do intervalo.\n",
      "8\n"
     ]
    }
   ],
   "source": [
    "# questão 3\n",
    "numero = int(input(\"Insira um número:\"))\n",
    "\n",
    "if numero >= 1 and numero <= 10:\n",
    " print(\"Dentro do intervalo.\")\n",
    "else:\n",
    " print(\"Fora do intervalo.\")\n",
    "\n",
    "print(numero)"
   ]
  },
  {
   "cell_type": "code",
   "execution_count": 19,
   "metadata": {},
   "outputs": [
    {
     "name": "stdout",
     "output_type": "stream",
     "text": [
      "Saldo positivo.\n",
      "O seu saldo é de 100.0 reais.\n"
     ]
    }
   ],
   "source": [
    "# questão 4\n",
    "saldo = 100.0\n",
    "\n",
    "if saldo > 0:\n",
    " print(\"Saldo positivo\")\n",
    "elif saldo == 0:\n",
    " print(\"Saldo zero\")\n",
    "else:\n",
    " print(\"Saldo negativo\")\n",
    "\n",
    "print(f\"O seu saldo é de {saldo} reais.\")"
   ]
  },
  {
   "cell_type": "code",
   "execution_count": 20,
   "metadata": {},
   "outputs": [
    {
     "name": "stdout",
     "output_type": "stream",
     "text": [
      "A temperatura em Fahrenheit é: 77.9\n"
     ]
    }
   ],
   "source": [
    "# questão 5 \n",
    "\n",
    "temperatura = 25.5\n",
    "\n",
    "f = temperatura * 9/5 + 32\n",
    "print(f\"A temperatura em Fahrenheit é: {f}\")"
   ]
  }
 ],
 "metadata": {
  "kernelspec": {
   "display_name": "Python 3",
   "language": "python",
   "name": "python3"
  },
  "language_info": {
   "codemirror_mode": {
    "name": "ipython",
    "version": 3
   },
   "file_extension": ".py",
   "mimetype": "text/x-python",
   "name": "python",
   "nbconvert_exporter": "python",
   "pygments_lexer": "ipython3",
   "version": "3.12.0"
  }
 },
 "nbformat": 4,
 "nbformat_minor": 2
}
