{
 "cells": [
  {
   "cell_type": "code",
   "execution_count": 3,
   "metadata": {},
   "outputs": [
    {
     "name": "stdout",
     "output_type": "stream",
     "text": [
      "a soma de a e b é: 25\n",
      "a mutiplicação de a e b é: 100\n"
     ]
    }
   ],
   "source": [
    "# questão 1\n",
    "a = 20\n",
    "b = 5\n",
    "print(\"A soma de a e b é:\", a+b)\n",
    "print(\"A mutiplicação de a e b é:\", a*b)"
   ]
  },
  {
   "cell_type": "code",
   "execution_count": 4,
   "metadata": {},
   "outputs": [
    {
     "name": "stdout",
     "output_type": "stream",
     "text": [
      "Vermelho\n",
      "Azul\n",
      "Rosa\n",
      "verde\n",
      "Amarelo\n"
     ]
    }
   ],
   "source": [
    "# questão 2\n",
    "cores = [\"Vermelho\", \"Azul\", \"Rosa\", \"verde\", \"Amarelo\"]\n",
    "\n",
    "for cor in cores:\n",
    "    print(cor)"
   ]
  },
  {
   "cell_type": "code",
   "execution_count": 69,
   "metadata": {},
   "outputs": [
    {
     "name": "stdout",
     "output_type": "stream",
     "text": [
      "A capital do Brasil é: Brasília\n"
     ]
    }
   ],
   "source": [
    "# questão 3\n",
    "paises = {\"Chile\": \"Santiago\", \n",
    "        \"Canadá\": \"Ottawa\", \n",
    "        \"Brasil\": \"Brasília\",\n",
    "        \"Colômbia\": \"Bogotá\"}\n",
    "\n",
    "print(\"A capital do Brasil é:\", paises[\"Brasil\"])"
   ]
  },
  {
   "cell_type": "code",
   "execution_count": 9,
   "metadata": {},
   "outputs": [
    {
     "name": "stdout",
     "output_type": "stream",
     "text": [
      "Maior de idade\n"
     ]
    }
   ],
   "source": [
    "# questão 4\n",
    "idade = 19\n",
    "\n",
    "if idade > 18:\n",
    "    print(\"Maior de idade\")"
   ]
  },
  {
   "cell_type": "code",
   "execution_count": 75,
   "metadata": {},
   "outputs": [
    {
     "name": "stdout",
     "output_type": "stream",
     "text": [
      "Bom Dia\n"
     ]
    }
   ],
   "source": [
    "# questão 5\n",
    "hora = 11\n",
    "\n",
    "if hora >=0 and hora <= 5:\n",
    "    print(\"Boa Madrugada\")\n",
    "elif hora >= 6 and hora <= 11:\n",
    "    print(\"Bom Dia\")\n",
    "elif hora >= 12 and hora <= 17:\n",
    "    print(\"Boa Tarde\")\n",
    "elif hora >= 18 and hora <= 23:\n",
    "    print(\"Boa Noite\")\n",
    "else:\n",
    "  print(\"hora inválida\")"
   ]
  },
  {
   "cell_type": "code",
   "execution_count": 23,
   "metadata": {},
   "outputs": [
    {
     "name": "stdout",
     "output_type": "stream",
     "text": [
      "1\n",
      "2\n",
      "3\n",
      "4\n",
      "5\n"
     ]
    }
   ],
   "source": [
    "# questão 6\n",
    "cont = 1\n",
    "\n",
    "while cont <= 5:\n",
    " print(cont)\n",
    " cont = cont + 1"
   ]
  },
  {
   "cell_type": "code",
   "execution_count": 47,
   "metadata": {},
   "outputs": [
    {
     "name": "stdout",
     "output_type": "stream",
     "text": [
      "2\n",
      "4\n",
      "6\n",
      "8\n",
      "10\n"
     ]
    }
   ],
   "source": [
    "# questão 7\n",
    "lista = [1,2,3,4,5,6,7,8,9,10]\n",
    "for x in lista:\n",
    "    if x %2 == 0:\n",
    "        print(x)"
   ]
  },
  {
   "cell_type": "code",
   "execution_count": 78,
   "metadata": {},
   "outputs": [
    {
     "name": "stdout",
     "output_type": "stream",
     "text": [
      "maça\n",
      "jaboticaba\n"
     ]
    }
   ],
   "source": [
    "# questão 8\n",
    "frutas = [\"maça\", \"pera\", \"jaca\", \"uva\", \"jaboticaba\"]\n",
    "\n",
    "print(frutas[0])\n",
    "print(frutas[4])"
   ]
  },
  {
   "cell_type": "code",
   "execution_count": 48,
   "metadata": {},
   "outputs": [
    {
     "name": "stdout",
     "output_type": "stream",
     "text": [
      "1\n",
      "2\n",
      "3\n",
      "4\n",
      "5\n",
      "6\n",
      "7\n",
      "8\n",
      "9\n",
      "10\n"
     ]
    }
   ],
   "source": [
    "# questão 9\n",
    "for x in range (1,11):\n",
    "    print(x)"
   ]
  },
  {
   "cell_type": "code",
   "execution_count": 56,
   "metadata": {},
   "outputs": [
    {
     "name": "stdout",
     "output_type": "stream",
     "text": [
      "A palavra 'gato'está na lista\n"
     ]
    }
   ],
   "source": [
    "# questão 10\n",
    "animais = [\"cachorro\", \"pato\", \"gato\", \"lontra\"]\n",
    "\n",
    "if \"gato\" in animais:\n",
    "    print(\"A palavra 'gato'está na lista\")"
   ]
  },
  {
   "cell_type": "code",
   "execution_count": 80,
   "metadata": {},
   "outputs": [
    {
     "name": "stdout",
     "output_type": "stream",
     "text": [
      "1\n",
      "2\n",
      "3\n",
      "4\n"
     ]
    }
   ],
   "source": [
    "# questão 11\n",
    "cont = 1\n",
    "\n",
    "while cont <= 10:\n",
    "    print(cont)\n",
    "    cont = cont + 1\n",
    "    if cont == 5:\n",
    "        break\n",
    "    \n",
    "\n"
   ]
  },
  {
   "cell_type": "code",
   "execution_count": 83,
   "metadata": {},
   "outputs": [
    {
     "name": "stdout",
     "output_type": "stream",
     "text": [
      "par\n"
     ]
    }
   ],
   "source": [
    "# questão 12\n",
    "numero = 4\n",
    "\n",
    "if numero %2 == 0:\n",
    "    print (\"par\")"
   ]
  },
  {
   "cell_type": "code",
   "execution_count": null,
   "metadata": {},
   "outputs": [],
   "source": [
    "# questão 13\n"
   ]
  }
 ],
 "metadata": {
  "kernelspec": {
   "display_name": "Python 3",
   "language": "python",
   "name": "python3"
  },
  "language_info": {
   "codemirror_mode": {
    "name": "ipython",
    "version": 3
   },
   "file_extension": ".py",
   "mimetype": "text/x-python",
   "name": "python",
   "nbconvert_exporter": "python",
   "pygments_lexer": "ipython3",
   "version": "3.12.0"
  }
 },
 "nbformat": 4,
 "nbformat_minor": 2
}
