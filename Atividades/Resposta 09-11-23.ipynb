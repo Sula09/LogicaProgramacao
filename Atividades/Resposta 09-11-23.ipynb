{
 "cells": [
  {
   "cell_type": "code",
   "execution_count": 6,
   "metadata": {},
   "outputs": [
    {
     "name": "stdout",
     "output_type": "stream",
     "text": [
      "{'modelo': ' Honda fan 150', 'ano': 2016}\n",
      "{'modelo': ' Honda fan 150', 'ano': 2016, 'cor': 'Azul'}\n"
     ]
    }
   ],
   "source": [
    "# crie um programa com dicionário já existente com dois itens, e depois adicione um novo iten e por fim mostre ele.\n",
    "dicio = {\"modelo\": \" Honda fan 150\",\n",
    "         \"ano\": 2016}\n",
    "print(dicio)\n",
    "dicio [\"cor\"] = \"Azul\"\n",
    "print(dicio)"
   ]
  },
  {
   "cell_type": "code",
   "execution_count": 7,
   "metadata": {},
   "outputs": [
    {
     "name": "stdout",
     "output_type": "stream",
     "text": [
      "{'modelo': 'Honda fan 150', 'ano': 2016, 'cor': 'Azul'}\n",
      "{'modelo': 'Honda fan 150', 'cor': 'Azul'}\n"
     ]
    }
   ],
   "source": [
    "# faça um programa que tenha um dicionário  com 3 itens depois crie um comando para remover um desses itens por fim mostrar o antes\n",
    "# e depois da remoção.\n",
    "dicio = {\"modelo\": \"Honda fan 150\",\n",
    "         \"ano\": 2016, \"cor\": \"Azul\"}\n",
    "print(dicio)\n",
    "\n",
    "dicio. pop (\"ano\")\n",
    "print(dicio)"
   ]
  }
 ],
 "metadata": {
  "kernelspec": {
   "display_name": "Python 3",
   "language": "python",
   "name": "python3"
  },
  "language_info": {
   "codemirror_mode": {
    "name": "ipython",
    "version": 3
   },
   "file_extension": ".py",
   "mimetype": "text/x-python",
   "name": "python",
   "nbconvert_exporter": "python",
   "pygments_lexer": "ipython3",
   "version": "3.12.0"
  }
 },
 "nbformat": 4,
 "nbformat_minor": 2
}
