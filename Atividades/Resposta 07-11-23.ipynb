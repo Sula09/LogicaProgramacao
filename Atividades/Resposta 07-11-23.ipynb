{
 "cells": [
  {
   "cell_type": "code",
   "execution_count": 6,
   "metadata": {},
   "outputs": [
    {
     "name": "stdout",
     "output_type": "stream",
     "text": [
      "1\n",
      "2\n",
      "3\n",
      "4\n",
      "5\n"
     ]
    }
   ],
   "source": [
    "# 1. Faça um programa usando o For que imprima os números de 1 a 5.\n",
    "for x in range(1, 6):\n",
    "    print(x)"
   ]
  },
  {
   "cell_type": "code",
   "execution_count": 11,
   "metadata": {},
   "outputs": [
    {
     "name": "stdout",
     "output_type": "stream",
     "text": [
      "0\n",
      "2\n",
      "4\n",
      "6\n",
      "8\n",
      "10\n"
     ]
    }
   ],
   "source": [
    "# 2. Faça um programa usando o For que imprima os números de 0 a 10 salteando de 2 em 2.\n",
    "for x in range(0,11,2):\n",
    "    print(x)"
   ]
  },
  {
   "cell_type": "code",
   "execution_count": 12,
   "metadata": {},
   "outputs": [
    {
     "name": "stdout",
     "output_type": "stream",
     "text": [
      "maça\n",
      "laranja\n",
      "uva\n"
     ]
    }
   ],
   "source": [
    "# 3. Crie uma lista com os valores “maça”, “laranja” e “uva”. \n",
    "# Faça o For percorrer essa lista e imprimir estes nomes.\n",
    "for x in [\"maça\", \"laranja\", \"uva\"]:\n",
    "    print(x)"
   ]
  },
  {
   "cell_type": "code",
   "execution_count": 41,
   "metadata": {},
   "outputs": [
    {
     "name": "stdout",
     "output_type": "stream",
     "text": [
      "10\n",
      "12\n",
      "14\n",
      "16\n",
      "18\n",
      "20\n"
     ]
    }
   ],
   "source": [
    "# 4. Escreva um programa usando o For que mostra os números pares de 10 a 20.\n",
    "for x in range(10, 21, 2):\n",
    "    print(x)"
   ]
  },
  {
   "cell_type": "code",
   "execution_count": 42,
   "metadata": {},
   "outputs": [
    {
     "name": "stdout",
     "output_type": "stream",
     "text": [
      "1\n",
      "2\n",
      "3\n",
      "4\n",
      "5\n",
      "6\n",
      "8\n",
      "9\n",
      "10\n"
     ]
    }
   ],
   "source": [
    "# 5. Faça um programa usando o For que imprime os números de 1 a 10, exceto o número 7\n",
    "for x in range(1, 11):\n",
    "    if x != 7:\n",
    "     print(x)"
   ]
  },
  {
   "cell_type": "code",
   "execution_count": 48,
   "metadata": {},
   "outputs": [
    {
     "name": "stdout",
     "output_type": "stream",
     "text": [
      "a\n",
      "b\n",
      "a\n",
      "c\n"
     ]
    }
   ],
   "source": [
    "# 6. Escreva um programa que usando o For percorra a palavra “abacaxi” imprimindo suas letras, e que ele \n",
    "# interrompa a execução do programa logo após imprimir a letra C.\n",
    "for x in \"abacaxi\":\n",
    "    print(x)\n",
    "    if x == \"c\":\n",
    "     break\n"
   ]
  },
  {
   "cell_type": "code",
   "execution_count": 77,
   "metadata": {},
   "outputs": [
    {
     "name": "stdout",
     "output_type": "stream",
     "text": [
      "10\n",
      "5\n",
      "3\n"
     ]
    }
   ],
   "source": [
    "# 7.\tFaça um programa que usando o For percorra a lista [10, 5, 3, -7, 2, -8], e que\n",
    "# faça a execução encerrar quando aparecer um número negativo\n",
    "for x in (10,5,3,-7,2,-8):\n",
    "   \n",
    "   if x <0:\n",
    "        break\n",
    "   print(x)\n"
   ]
  },
  {
   "cell_type": "code",
   "execution_count": 71,
   "metadata": {},
   "outputs": [
    {
     "name": "stdout",
     "output_type": "stream",
     "text": [
      "java\n",
      "c++\n",
      "python\n"
     ]
    }
   ],
   "source": [
    "# 8.\tEscreva um programa usando o For que percorra sobre uma lista de palavras e imprime cada palavra até encontrar a palavra \"python\". \n",
    "# Quando encontrar \"python\", use o comando break para interromper o loop. Utilize a lista abaixo:[\"java\", \"c++\", \"python\", \"javascript\", \"ruby\"]\n",
    "for x in [\"java\", \"c++\", \"python\", \"javascript\", \"ruby\"]:\n",
    "    print(x)\n",
    "    if x == \"python\":\n",
    "        break"
   ]
  },
  {
   "cell_type": "code",
   "execution_count": 78,
   "metadata": {},
   "outputs": [
    {
     "name": "stdout",
     "output_type": "stream",
     "text": [
      "15\n",
      "18\n"
     ]
    }
   ],
   "source": [
    "# 10. Faça um programa usando o For que percorre uma lista de números e encontra o primeiro número que seja maior que 20.\n",
    "# Use o comando break para interromper o loop quando encontrar esse número. Use a lista abaixo:[15, 18, 25, 30, 10, 5]\n",
    "for x in [15,18,25,30,10,5]:\n",
    "\n",
    "    if x > 20:\n",
    "        break\n",
    "    print(x)"
   ]
  }
 ],
 "metadata": {
  "kernelspec": {
   "display_name": "Python 3",
   "language": "python",
   "name": "python3"
  },
  "language_info": {
   "codemirror_mode": {
    "name": "ipython",
    "version": 3
   },
   "file_extension": ".py",
   "mimetype": "text/x-python",
   "name": "python",
   "nbconvert_exporter": "python",
   "pygments_lexer": "ipython3",
   "version": "3.12.0"
  }
 },
 "nbformat": 4,
 "nbformat_minor": 2
}
