{
 "cells": [
  {
   "cell_type": "code",
   "execution_count": 15,
   "metadata": {},
   "outputs": [
    {
     "name": "stdout",
     "output_type": "stream",
     "text": [
      "A subtração desses números é: 24\n",
      "E sua divisão é: 9.0\n"
     ]
    }
   ],
   "source": [
    "# questão 1\n",
    "x = 27\n",
    "y = 3\n",
    "\n",
    "print(\"A subtração desses números é:\", x-y)\n",
    "print(\"E sua divisão é:\",(x/y))"
   ]
  },
  {
   "cell_type": "code",
   "execution_count": 18,
   "metadata": {},
   "outputs": [
    {
     "name": "stdout",
     "output_type": "stream",
     "text": [
      "jaca\n",
      "cajá\n",
      "morango\n",
      "damasco\n"
     ]
    }
   ],
   "source": [
    "# questão 2\n",
    "frutas = [\"jaca\", \"cajá\", \"morango\", \"damasco\"]\n",
    "\n",
    "for fruta in frutas:\n",
    "    print(fruta)"
   ]
  },
  {
   "cell_type": "code",
   "execution_count": 44,
   "metadata": {},
   "outputs": [
    {
     "name": "stdout",
     "output_type": "stream",
     "text": [
      "Sua altura é: 1.68\n"
     ]
    }
   ],
   "source": [
    "# questão 3\n",
    "dicio = {\"nome\": \"Suyany\",\n",
    "         \"idade\": \"19\",\n",
    "         \"altura\": \"1.68\"}\n",
    "\n",
    "print(\"Sua altura é:\", dicio[\"altura\"])"
   ]
  },
  {
   "cell_type": "code",
   "execution_count": 21,
   "metadata": {},
   "outputs": [],
   "source": [
    "# questão 4 \n",
    "altura = 1.70\n",
    "\n",
    "if altura >= 1.40:\n",
    "    print(\"Altura verificada. Pode utilizar o brinquedo\")"
   ]
  },
  {
   "cell_type": "code",
   "execution_count": 5,
   "metadata": {},
   "outputs": [
    {
     "name": "stdout",
     "output_type": "stream",
     "text": [
      "Temperatura Mediana\n"
     ]
    }
   ],
   "source": [
    "# questão 5 \n",
    "temp = 41\n",
    "\n",
    "if temp >= 0 and temp <= 35:\n",
    "    print(\"Temperatura Baixa\")\n",
    "elif temp >= 36 and temp <= 57:\n",
    "    print(\"Temperatura Mediana\")\n",
    "elif temp >= 58 and temp <= 72:\n",
    "    print(\"Temperatura Alta\")\n",
    "else:\n",
    "    print(\"Temperatura Extrema\")"
   ]
  },
  {
   "cell_type": "code",
   "execution_count": 6,
   "metadata": {},
   "outputs": [
    {
     "name": "stdout",
     "output_type": "stream",
     "text": [
      "4\n",
      "5\n",
      "6\n",
      "7\n",
      "8\n",
      "9\n",
      "10\n",
      "11\n",
      "12\n"
     ]
    }
   ],
   "source": [
    "# questão 6 \n",
    "cont = 4\n",
    "\n",
    "while cont <= 12:\n",
    "    print(cont)\n",
    "    cont = cont + 1"
   ]
  },
  {
   "cell_type": "code",
   "execution_count": 7,
   "metadata": {},
   "outputs": [
    {
     "name": "stdout",
     "output_type": "stream",
     "text": [
      "1\n",
      "3\n",
      "5\n",
      "7\n",
      "9\n"
     ]
    }
   ],
   "source": [
    "#questão 7\n",
    "numeros = [1,2,3,4,5,6,7,8,9,10]\n",
    "\n",
    "for x in numeros:\n",
    "    if x %2 != 0:\n",
    "        print(x)"
   ]
  },
  {
   "cell_type": "code",
   "execution_count": 9,
   "metadata": {},
   "outputs": [
    {
     "name": "stdout",
     "output_type": "stream",
     "text": [
      "jaboticaba\n",
      "tangerina\n"
     ]
    }
   ],
   "source": [
    "# questão 8\n",
    "frutas = [\"jaboticaba\",\"maracujá\", \"melancia\", \"tangerina\"]\n",
    "\n",
    "print(frutas[0])\n",
    "print(frutas[len(frutas)-1])"
   ]
  },
  {
   "cell_type": "code",
   "execution_count": 43,
   "metadata": {},
   "outputs": [
    {
     "name": "stdout",
     "output_type": "stream",
     "text": [
      "-1\n",
      "-2\n",
      "-3\n",
      "-4\n",
      "-5\n",
      "-6\n",
      "-7\n",
      "-8\n",
      "-9\n",
      "-10\n"
     ]
    }
   ],
   "source": [
    "# questão 9\n",
    "for x in range(-1,-11, -1):\n",
    "    print(x)"
   ]
  },
  {
   "cell_type": "code",
   "execution_count": 42,
   "metadata": {},
   "outputs": [
    {
     "name": "stdout",
     "output_type": "stream",
     "text": [
      "Coxinha está na lista\n"
     ]
    }
   ],
   "source": [
    "# questão 10\n",
    "lanches = [\"misto\", \"hambúrguer\", \"pizza\", \"coxinha\"]\n",
    "\n",
    "if \"coxinha\" in lanches:\n",
    "    print(\"Coxinha está na lista\")"
   ]
  }
 ],
 "metadata": {
  "kernelspec": {
   "display_name": "Python 3",
   "language": "python",
   "name": "python3"
  },
  "language_info": {
   "codemirror_mode": {
    "name": "ipython",
    "version": 3
   },
   "file_extension": ".py",
   "mimetype": "text/x-python",
   "name": "python",
   "nbconvert_exporter": "python",
   "pygments_lexer": "ipython3",
   "version": "3.12.0"
  }
 },
 "nbformat": 4,
 "nbformat_minor": 2
}
