{
 "cells": [
  {
   "cell_type": "code",
   "execution_count": 2,
   "metadata": {},
   "outputs": [
    {
     "name": "stdout",
     "output_type": "stream",
     "text": [
      "1\n",
      "2\n",
      "3\n",
      "4\n",
      "5\n"
     ]
    }
   ],
   "source": [
    "# Construir uma estrutura While de 1 até 5\n",
    "x = 1\n",
    "\n",
    "while x <= 5:\n",
    " print(x)\n",
    " x += 1"
   ]
  },
  {
   "cell_type": "code",
   "execution_count": 8,
   "metadata": {},
   "outputs": [
    {
     "name": "stdout",
     "output_type": "stream",
     "text": [
      "Olá Mundo 1\n",
      "Olá Mundo 2\n",
      "Olá Mundo 3\n",
      "Olá Mundo 4\n",
      "Olá Mundo 5\n"
     ]
    }
   ],
   "source": [
    "# printar \"olá mundo\" de 1 até 5\n",
    "x = 1 \n",
    "\n",
    "while x <= 5:\n",
    " print (\"Olá Mundo\" , x)\n",
    " x += 1"
   ]
  },
  {
   "cell_type": "code",
   "execution_count": 7,
   "metadata": {},
   "outputs": [
    {
     "name": "stdout",
     "output_type": "stream",
     "text": [
      "Olá Mundo 10\n",
      "Olá Mundo 11\n",
      "Olá Mundo 12\n",
      "Olá Mundo 13\n",
      "Olá Mundo 14\n",
      "Olá Mundo 15\n"
     ]
    }
   ],
   "source": [
    "# printar \"olá mundo\" de 10 até 15\n",
    "x = 10\n",
    "\n",
    "while x <= 15:\n",
    " print (\"Olá Mundo\" , x)\n",
    " x += 1"
   ]
  },
  {
   "cell_type": "code",
   "execution_count": 4,
   "metadata": {},
   "outputs": [
    {
     "name": "stdout",
     "output_type": "stream",
     "text": [
      "O somatório total dos valores é de: 50\n"
     ]
    }
   ],
   "source": [
    "# Fazer um programa para receber 5 valores e mostrar a soma de todos eles no final.Usando o While\n",
    "somatorio = 0\n",
    "contador = 1\n",
    "\n",
    "while contador <= 5:\n",
    "  valor = int(input(\"Digite um valor\"))\n",
    "  somatorio = somatorio + valor\n",
    "  contador = contador + 1\n",
    "\n",
    "print(f\"O somatório total dos valores é de: {somatorio}\")"
   ]
  },
  {
   "cell_type": "code",
   "execution_count": 8,
   "metadata": {},
   "outputs": [
    {
     "name": "stdout",
     "output_type": "stream",
     "text": [
      "O valor é maior que 10.Progrma encerrado.\n"
     ]
    }
   ],
   "source": [
    "# Faça um programa para receber valores infinitamente, porém que o programa encerre\n",
    "# quando esse valor for maior que 10.\n",
    "\n",
    "while True:\n",
    "  valor = int(input(\"Digite um valor\"))\n",
    "  if valor > 10:\n",
    "    print(\"O valor é maior que 10.Progrma encerrado.\")\n",
    "    break\n",
    "  "
   ]
  }
 ],
 "metadata": {
  "kernelspec": {
   "display_name": "Python 3",
   "language": "python",
   "name": "python3"
  },
  "language_info": {
   "codemirror_mode": {
    "name": "ipython",
    "version": 3
   },
   "file_extension": ".py",
   "mimetype": "text/x-python",
   "name": "python",
   "nbconvert_exporter": "python",
   "pygments_lexer": "ipython3",
   "version": "3.12.0"
  }
 },
 "nbformat": 4,
 "nbformat_minor": 2
}
