{
 "cells": [
  {
   "cell_type": "code",
   "execution_count": null,
   "metadata": {},
   "outputs": [],
   "source": [
    "# questão\n",
    "contador = 1\n",
    "total = 0\n",
    "while contador <= 5:\n",
    "    contadorador = contador + 1\n",
    "    valor = int(input(\"insira um número\"))\n",
    "    print(valor)\n",
    "    if valor % 2 == 0:\n",
    "        total = total + valor\n",
    "print(\"Valor total da somatória é:\", total)"
   ]
  },
  {
   "cell_type": "code",
   "execution_count": 5,
   "metadata": {},
   "outputs": [
    {
     "name": "stdout",
     "output_type": "stream",
     "text": [
      "5\n",
      "2\n",
      "15\n",
      "8\n",
      "3\n",
      " O maior valor digitado é 15\n"
     ]
    }
   ],
   "source": [
    "# questão 2\n",
    "contador = 1\n",
    "maior = 0\n",
    "\n",
    "while contador <= 5: \n",
    "    valor = int(input(\"Digite um número\"))\n",
    "    print(valor)\n",
    "    contador = contador + 1\n",
    "    if valor > maior:\n",
    "        maior = valor\n",
    "print(\" O maior valor digitado é\", maior)"
   ]
  },
  {
   "cell_type": "code",
   "execution_count": 9,
   "metadata": {},
   "outputs": [
    {
     "name": "stdout",
     "output_type": "stream",
     "text": [
      "1\n",
      "3\n",
      "5\n",
      "7\n",
      "9\n"
     ]
    }
   ],
   "source": [
    "# questão 3\n",
    "cont = 1\n",
    "\n",
    "while cont <= 10:\n",
    "    if cont % 2 != 0:\n",
    "        print(cont)\n",
    "    cont = cont + 1"
   ]
  },
  {
   "cell_type": "code",
   "execution_count": null,
   "metadata": {},
   "outputs": [],
   "source": [
    "# questão 4\n",
    "cont = 0\n",
    "limit = int(input(\"insira o número final\"))\n",
    "\n",
    "while cont < limit:\n",
    "    print(cont)\n",
    "    cont = cont"
   ]
  }
 ],
 "metadata": {
  "kernelspec": {
   "display_name": "Python 3",
   "language": "python",
   "name": "python3"
  },
  "language_info": {
   "codemirror_mode": {
    "name": "ipython",
    "version": 3
   },
   "file_extension": ".py",
   "mimetype": "text/x-python",
   "name": "python",
   "nbconvert_exporter": "python",
   "pygments_lexer": "ipython3",
   "version": "3.12.0"
  }
 },
 "nbformat": 4,
 "nbformat_minor": 2
}
