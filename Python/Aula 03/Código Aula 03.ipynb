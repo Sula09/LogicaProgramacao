{
 "cells": [
  {
   "cell_type": "code",
   "execution_count": null,
   "metadata": {},
   "outputs": [
    {
     "name": "stdout",
     "output_type": "stream",
     "text": [
      "R$ 154.990,00\n"
     ]
    }
   ],
   "source": [
    "marca = \"toyota\"\n",
    "modelo = \"corolla\"\n",
    "\n",
    "if marca == \"toyota\":\n",
    "  if modelo==\"corolla\":\n",
    "    print(\"R$ 154.990,00\")\n",
    "  elif modelo==\"hilux\":\n",
    "    print(\"R$ 273.090,00\")\n",
    "  else:\n",
    "    print(\"Modelo não encontrado\")\n",
    "elif marca == \"honda\":\n",
    "  if modelo==\"civic\":\n",
    "    print(\"R$ 244.900,00\")\n",
    "  elif modelo==\"hrv\":\n",
    "    print(\"R$ 194.800,00\")\n",
    "  else:\n",
    "    print(\"Modelo não encontrado\")\n",
    "elif marca == \"volkswagen\":\n",
    "  if modelo==\"gol\":\n",
    "    print(\"R$ 75.490,00\")\n",
    "  elif modelo==\"polo\":\n",
    "    print(\"R$ 95.990,00\")\n",
    "  else:\n",
    "    print(\"Modelo não encontrado\")\n",
    "elif marca == \"fiat\":\n",
    "  if modelo==\"argo\":\n",
    "    print(\"R$ 79.790,00\")\n",
    "  elif modelo==\"hilux\":\n",
    "    print(\"R$ 99.990,00\")\n",
    "  else:\n",
    "    print(\"Modelo não encontrado\")\n",
    "else:\n",
    "  print(\"Não existe esta marca\")"
   ]
  },
  {
   "cell_type": "code",
   "execution_count": 3,
   "metadata": {},
   "outputs": [
    {
     "name": "stdout",
     "output_type": "stream",
     "text": [
      "1\n",
      "3\n",
      "5\n",
      "7\n",
      "9\n"
     ]
    }
   ],
   "source": [
    "# Estrutura Repetição WHILE\n",
    "\n",
    "x = 1\n",
    "\n",
    "while x <= 10:\n",
    "  print(x)\n",
    "  x = x + 1     #   x = x + 1 'ou' x += 1\n",
    "  x += 1"
   ]
  },
  {
   "cell_type": "code",
   "execution_count": null,
   "metadata": {},
   "outputs": [],
   "source": [
    "# Acumulador de valores\n",
    "\n",
    "somatorio = 0\n",
    "contador = 1\n",
    "\n",
    "while contador <= 10:\n",
    "  valor = int(input(\"Digite um valor\"))\n",
    "  somatorio = somatorio + valor\n",
    "  contador = contador + 1\n",
    "\n",
    "print(f\"O somatório total dos valores é de: {somatorio}\")"
   ]
  },
  {
   "cell_type": "code",
   "execution_count": 1,
   "metadata": {},
   "outputs": [
    {
     "ename": "ValueError",
     "evalue": "invalid literal for int() with base 10: ''",
     "output_type": "error",
     "traceback": [
      "\u001b[1;31m---------------------------------------------------------------------------\u001b[0m",
      "\u001b[1;31mValueError\u001b[0m                                Traceback (most recent call last)",
      "\u001b[1;32mc:\\Users\\Aluno\\Documents\\GitHub\\LogicaProgramacao\\Python\\Aula 03\\Código Aula 03.ipynb Célula 4\u001b[0m line \u001b[0;36m7\n\u001b[0;32m      <a href='vscode-notebook-cell:/c%3A/Users/Aluno/Documents/GitHub/LogicaProgramacao/Python/Aula%2003/C%C3%B3digo%20Aula%2003.ipynb#W3sZmlsZQ%3D%3D?line=3'>4</a>\u001b[0m contador \u001b[39m=\u001b[39m \u001b[39m1\u001b[39m\n\u001b[0;32m      <a href='vscode-notebook-cell:/c%3A/Users/Aluno/Documents/GitHub/LogicaProgramacao/Python/Aula%2003/C%C3%B3digo%20Aula%2003.ipynb#W3sZmlsZQ%3D%3D?line=5'>6</a>\u001b[0m \u001b[39mwhile\u001b[39;00m contador \u001b[39m<\u001b[39m\u001b[39m=\u001b[39m \u001b[39m10\u001b[39m:\n\u001b[1;32m----> <a href='vscode-notebook-cell:/c%3A/Users/Aluno/Documents/GitHub/LogicaProgramacao/Python/Aula%2003/C%C3%B3digo%20Aula%2003.ipynb#W3sZmlsZQ%3D%3D?line=6'>7</a>\u001b[0m   valor \u001b[39m=\u001b[39m \u001b[39mint\u001b[39;49m(\u001b[39minput\u001b[39;49m(\u001b[39m\"\u001b[39;49m\u001b[39mDigite um valor\u001b[39;49m\u001b[39m\"\u001b[39;49m))\n\u001b[0;32m      <a href='vscode-notebook-cell:/c%3A/Users/Aluno/Documents/GitHub/LogicaProgramacao/Python/Aula%2003/C%C3%B3digo%20Aula%2003.ipynb#W3sZmlsZQ%3D%3D?line=7'>8</a>\u001b[0m   \u001b[39mif\u001b[39;00m valor \u001b[39m==\u001b[39m \u001b[39m0\u001b[39m:\n\u001b[0;32m      <a href='vscode-notebook-cell:/c%3A/Users/Aluno/Documents/GitHub/LogicaProgramacao/Python/Aula%2003/C%C3%B3digo%20Aula%2003.ipynb#W3sZmlsZQ%3D%3D?line=8'>9</a>\u001b[0m     \u001b[39mbreak\u001b[39;00m\n",
      "\u001b[1;31mValueError\u001b[0m: invalid literal for int() with base 10: ''"
     ]
    }
   ],
   "source": [
    "# Interrupção da execução do WHILE\n",
    "\n",
    "somatorio = 0\n",
    "contador = 1\n",
    "\n",
    "while contador <= 10:\n",
    "  valor = int(input(\"Digite um valor\"))\n",
    "  if valor == 0:\n",
    "    break\n",
    "  somatorio = somatorio + valor\n",
    "  contador = contador + 1\n",
    "\n",
    "print(f\"O somatório total dos valores é de: {somatorio}\")"
   ]
  }
 ],
 "metadata": {
  "kernelspec": {
   "display_name": "Python 3",
   "language": "python",
   "name": "python3"
  },
  "language_info": {
   "codemirror_mode": {
    "name": "ipython",
    "version": 3
   },
   "file_extension": ".py",
   "mimetype": "text/x-python",
   "name": "python",
   "nbconvert_exporter": "python",
   "pygments_lexer": "ipython3",
   "version": "3.12.0"
  },
  "orig_nbformat": 4
 },
 "nbformat": 4,
 "nbformat_minor": 2
}
